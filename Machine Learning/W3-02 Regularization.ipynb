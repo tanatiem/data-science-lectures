{
 "cells": [
  {
   "cell_type": "markdown",
   "metadata": {},
   "source": [
    "# Regularized Logistic Regression\n",
    "\n",
    "In this part of the exercise, you will implement regularized logistic regression\n",
    "to predict whether microchips from a fabrication plant passes quality assur-\n",
    "ance (QA). During QA, each microchip goes through various tests to ensure\n",
    "it is functioning correctly.\n",
    "\n",
    "Suppose you are the product manager of the factory and you have the\n",
    "test results for some microchips on two di\u000b",
    "erent tests. From these two tests,\n",
    "you would like to determine whether the microchips should be accepted or\n",
    "rejected. To help you make the decision, you have a dataset of test results\n",
    "on past microchips, from which you can build a logistic regression model."
   ]
  },
  {
   "cell_type": "code",
   "execution_count": 1,
   "metadata": {},
   "outputs": [],
   "source": [
    "import numpy as np\n",
    "import pandas as pd\n",
    "import matplotlib.pyplot as plt"
   ]
  },
  {
   "cell_type": "code",
   "execution_count": 2,
   "metadata": {},
   "outputs": [
    {
     "data": {
      "text/html": [
       "<div>\n",
       "<style scoped>\n",
       "    .dataframe tbody tr th:only-of-type {\n",
       "        vertical-align: middle;\n",
       "    }\n",
       "\n",
       "    .dataframe tbody tr th {\n",
       "        vertical-align: top;\n",
       "    }\n",
       "\n",
       "    .dataframe thead th {\n",
       "        text-align: right;\n",
       "    }\n",
       "</style>\n",
       "<table border=\"1\" class=\"dataframe\">\n",
       "  <thead>\n",
       "    <tr style=\"text-align: right;\">\n",
       "      <th></th>\n",
       "      <th>test1</th>\n",
       "      <th>test2</th>\n",
       "      <th>accepted</th>\n",
       "    </tr>\n",
       "  </thead>\n",
       "  <tbody>\n",
       "    <tr>\n",
       "      <th>0</th>\n",
       "      <td>0.051267</td>\n",
       "      <td>0.69956</td>\n",
       "      <td>1</td>\n",
       "    </tr>\n",
       "    <tr>\n",
       "      <th>1</th>\n",
       "      <td>-0.092742</td>\n",
       "      <td>0.68494</td>\n",
       "      <td>1</td>\n",
       "    </tr>\n",
       "    <tr>\n",
       "      <th>2</th>\n",
       "      <td>-0.213710</td>\n",
       "      <td>0.69225</td>\n",
       "      <td>1</td>\n",
       "    </tr>\n",
       "    <tr>\n",
       "      <th>3</th>\n",
       "      <td>-0.375000</td>\n",
       "      <td>0.50219</td>\n",
       "      <td>1</td>\n",
       "    </tr>\n",
       "    <tr>\n",
       "      <th>4</th>\n",
       "      <td>-0.513250</td>\n",
       "      <td>0.46564</td>\n",
       "      <td>1</td>\n",
       "    </tr>\n",
       "  </tbody>\n",
       "</table>\n",
       "</div>"
      ],
      "text/plain": [
       "      test1    test2  accepted\n",
       "0  0.051267  0.69956         1\n",
       "1 -0.092742  0.68494         1\n",
       "2 -0.213710  0.69225         1\n",
       "3 -0.375000  0.50219         1\n",
       "4 -0.513250  0.46564         1"
      ]
     },
     "execution_count": 2,
     "metadata": {},
     "output_type": "execute_result"
    }
   ],
   "source": [
    "df = pd.read_csv('datasets/ex2data2.txt', header=None, names=['test1', 'test2','accepted'])\n",
    "df.head()"
   ]
  },
  {
   "cell_type": "code",
   "execution_count": 3,
   "metadata": {},
   "outputs": [],
   "source": [
    "X = df.drop('accepted', axis=1).values\n",
    "y = df['accepted'].values.reshape(-1,1)"
   ]
  },
  {
   "cell_type": "markdown",
   "metadata": {},
   "source": [
    "# EDA"
   ]
  },
  {
   "cell_type": "code",
   "execution_count": 4,
   "metadata": {},
   "outputs": [],
   "source": [
    "def plotData(X, y):\n",
    "    y = y.flatten()\n",
    "    pos, neg = (y==1), (y==0)\n",
    "    x1, x2 = X[:,0], X[:,1]\n",
    "    plt.figure(figsize=(8,8))\n",
    "    plt.plot(X[pos,0], X[pos,1], 'k+', linewidth=2, markersize=8, label='Accepted')\n",
    "    plt.plot(X[neg,0], X[neg,1], 'yo', markersize=8, label='Not accepted')\n",
    "    plt.xlabel('Microchip Test 1')\n",
    "    plt.ylabel('Microchip Test 2')\n",
    "    plt.legend();"
   ]
  },
  {
   "cell_type": "code",
   "execution_count": 5,
   "metadata": {},
   "outputs": [
    {
     "data": {
      "image/png": "[encoded data removed]",
      "text/plain": [
       "<Figure size 576x576 with 1 Axes>"
      ]
     },
     "metadata": {},
     "output_type": "display_data"
    }
   ],
   "source": [
    "plotData(X,y)"
   ]
  },
  {
   "cell_type": "markdown",
   "metadata": {},
   "source": [
    "The plot shows that our dataset cannot be separated into positive and\n",
    "negative examples by a straight-line through the plot. Therefore, a straight-\n",
    "forward application of logistic regression will not perform well on this dataset\n",
    "since logistic regression will only be able to find a linear decision boundary."
   ]
  },
  {
   "cell_type": "markdown",
   "metadata": {},
   "source": [
    "## Feature mapping\n",
    "\n",
    "One way to fit the data better is to **create more features** from each data\n",
    "point.<br>\n",
    "We will **map the features into all polynomial terms of x1 and x2 up to the sixth power.**\n",
    "\n",
    "\n",
    "$$ mapFeature(x) = \n",
    "\\begin{bmatrix}\n",
    "    1 \\\\\n",
    "    x_1 \\\\\n",
    "    x_2 \\\\\n",
    "    x_1^2 \\\\\n",
    "    x_1x_2 \\\\\n",
    "    x_2^2 \\\\\n",
    "    x_1^3 \\\\\n",
    "    \\vdots \\\\\n",
    "    x_1x_2^5 \\\\\n",
    "    x_2^6\n",
    "\\end{bmatrix}\n",
    "$$\n",
    "\n",
    "As a result of this mapping, our vector of two features (the scores on\n",
    "two QA tests) has been transformed into a 28-dimensional vector. A logistic\n",
    "regression classi\f",
    "er trained on this higher-dimension feature vector will have\n",
    "a more complex decision boundary and will appear nonlinear when drawn in\n",
    "our 2-dimensional plot.\n",
    "\n",
    "While the feature mapping allows us to build a more expressive classi\f",
    "er,\n",
    "it also more susceptible to over\f",
    "tting. In the next parts of the exercise, you\n",
    "will implement regularized logistic regression to \f",
    "t the data and also see for\n",
    "yourself how regularization can help combat the over\f",
    "tting problem."
   ]
  },
  {
   "cell_type": "code",
   "execution_count": 6,
   "metadata": {},
   "outputs": [],
   "source": [
    "def mapFeature(x1, x2, degree):\n",
    "    out = np.ones((len(x1),1))\n",
    "    for i in np.arange(degree) + 1:\n",
    "        for j in np.arange(i+1):\n",
    "            out = np.hstack([out, (x1**(i-j)) * (x2**j)])\n",
    "    return out"
   ]
  },
  {
   "cell_type": "code",
   "execution_count": 7,
   "metadata": {},
   "outputs": [
    {
     "name": "stdout",
     "output_type": "stream",
     "text": [
      "[[ 1.00000000e+00  5.12670000e-02  6.99560000e-01 ...  6.29470940e-04\n",
      "   8.58939846e-03  1.17205992e-01]\n",
      " [ 1.00000000e+00 -9.27420000e-02  6.84940000e-01 ...  1.89305413e-03\n",
      "  -1.39810280e-02  1.03255971e-01]\n",
      " [ 1.00000000e+00 -2.13710000e-01  6.92250000e-01 ...  1.04882142e-02\n",
      "  -3.39734512e-02  1.10046893e-01]\n",
      " ...\n",
      " [ 1.00000000e+00 -4.84450000e-01  9.99270000e-01 ...  2.34007252e-01\n",
      "  -4.82684337e-01  9.95627986e-01]\n",
      " [ 1.00000000e+00 -6.33640000e-03  9.99270000e-01 ...  4.00328554e-05\n",
      "  -6.31330588e-03  9.95627986e-01]\n",
      " [ 1.00000000e+00  6.32650000e-01 -3.06120000e-02 ...  3.51474517e-07\n",
      "  -1.70067777e-08  8.22905998e-10]]\n"
     ]
    }
   ],
   "source": [
    "x1 = X[:,0].reshape(-1,1)\n",
    "x2 = X[:,1].reshape(-1,1)\n",
    "\n",
    "X = mapFeature(x1,x2, degree=6)\n",
    "m, n = X.shape\n",
    "\n",
    "print(X)"
   ]
  },
  {
   "cell_type": "markdown",
   "metadata": {},
   "source": [
    "## Cost function and gradient\n",
    "\n",
    "**Cost**<br>\n",
    "$$J(\\theta) = \\frac{1}{m}\\sum_{i=1}^{m}[ -y^{(i)}log(h_\\theta(x^{(i)})) - (1 - y^{(i)})log(1 - h_\\theta(x^{(i)}))] + \\frac{\\lambda}{2m}\\sum_{j=1}^{n}\\theta_j^2$$\n",
    "\n",
    "**Gradients**<br>\n",
    "$\\frac{\\partial J(\\theta)}{\\partial \\theta_0} = \\frac{1}{m}\\sum_{i=1}^{m}(h_\\theta(x^{(i)}) - y^{(i)})x_j^{(i)}$    for j = 0\n",
    "\n",
    "$\\frac{\\partial J(\\theta)}{\\partial \\theta_j} = (\\frac{1}{m}\\sum_{i=1}^{m}(h_\\theta(x^{(i)}) - y^{(i)})x_j^{(i)}) + \\frac{\\lambda}{m}\\theta_j$    for j >= 1"
   ]
  },
  {
   "cell_type": "code",
   "execution_count": 8,
   "metadata": {},
   "outputs": [],
   "source": [
    "def sigmoid(z):\n",
    "    return 1/(1 + np.exp(-z))\n",
    "\n",
    "def costFunctionReg(theta, X, y, l):\n",
    "    theta = theta.reshape(-1,1)\n",
    "    \n",
    "    # compute hypothesis h(x)\n",
    "    h = sigmoid(X @ theta)\n",
    "    \n",
    "    # theta 0 is not regularized\n",
    "    J = -1/m * np.sum(y*np.log(h) + (1-y)*np.log(1-h)) \\\n",
    "        + l/(2*m) * np.sum(theta[1:]**2)\n",
    "        \n",
    "    return J\n",
    "\n",
    "\n",
    "def gradientFunctionReg(theta, X, y, l):\n",
    "    m = len(y)\n",
    "    theta = theta.reshape(-1,1)\n",
    "    \n",
    "    # compute hypothesis h(x)\n",
    "    h = sigmoid(X @ theta)\n",
    "    \n",
    "    grad = np.zeros((X.shape[1], 1))\n",
    "    # compute gradient for theta 0 (not regularized)\n",
    "    grad[0,0] = 1/m * np.sum(h - y)\n",
    "\n",
    "    # compute gradients (theta_0, ... theta_n)\n",
    "    grad[1:] = (np.transpose(X[:,1:]) @ (h-y))/m + (l/m * theta[1:])\n",
    "    \n",
    "    return grad.flatten()"
   ]
  },
  {
   "cell_type": "code",
   "execution_count": 9,
   "metadata": {},
   "outputs": [
    {
     "name": "stdout",
     "output_type": "stream",
     "text": [
      "Cost at initial theta (zeros): 0.6931471805599454\n",
      "Expected cost (approx): 0.693\n",
      "Gradient at initial theta (zeros):\n",
      "[0.00847 0.01879 0.00008 0.05034 0.01150 ...]\n",
      "Expected gradients (approx):\n",
      "[0.0085 0.0188 0.0001 0.0503 0.0115 ...]\n"
     ]
    }
   ],
   "source": [
    "# Initialize fitting parameters\n",
    "initial_theta = np.zeros(n)\n",
    "# lambda = 1\n",
    "l = 1\n",
    "\n",
    "cost = costFunctionReg(initial_theta, X, y, l)\n",
    "grad = gradientFunctionReg(initial_theta, X, y, l)\n",
    "\n",
    "print('Cost at initial theta (zeros): {}'.format(cost))\n",
    "print('Expected cost (approx): 0.693');\n",
    "print(\n",
    "    'Gradient at initial theta (zeros):\\n[{g[0]:.5f} {g[1]:.5f} {g[2]:.5f} {g[3]:.5f} {g[4]:.5f} ...]'\n",
    "    .format(g=grad))\n",
    "print('Expected gradients (approx):\\n[0.0085 0.0188 0.0001 0.0503 0.0115 ...]')"
   ]
  },
  {
   "cell_type": "code",
   "execution_count": 10,
   "metadata": {},
   "outputs": [
    {
     "name": "stdout",
     "output_type": "stream",
     "text": [
      "Cost at test theta (lambda = 10): 3.1645093316150095\n",
      "Expected cost (approx): 3.16\n",
      "Gradient at test theta (zeros):\n",
      "[0.34605 0.16135 0.19480 0.22686 0.09219 ...]\n",
      "Expected gradients (approx):\n",
      "[0.3460 0.1614 0.1948 0.2269 0.0922 ...]\n"
     ]
    }
   ],
   "source": [
    "\n",
    "test_theta = np.ones(n)\n",
    "# lambda = 10\n",
    "l = 10\n",
    "\n",
    "cost = costFunctionReg(test_theta, X, y, l)\n",
    "grad = gradientFunctionReg(test_theta, X, y, l)\n",
    "\n",
    "print('Cost at test theta (lambda = 10): {}'.format(cost))\n",
    "print('Expected cost (approx): 3.16');\n",
    "print(\n",
    "    'Gradient at test theta (zeros):\\n[{g[0]:.5f} {g[1]:.5f} {g[2]:.5f} {g[3]:.5f} {g[4]:.5f} ...]'\n",
    "    .format(g=grad))\n",
    "print('Expected gradients (approx):\\n[0.3460 0.1614 0.1948 0.2269 0.0922 ...]')"
   ]
  },
  {
   "cell_type": "markdown",
   "metadata": {},
   "source": [
    "## Regularizatio and Accuracies"
   ]
  },
  {
   "cell_type": "code",
   "execution_count": 28,
   "metadata": {},
   "outputs": [
    {
     "data": {
      "text/plain": [
       "     fun: 0.5290027299645002\n",
       "     jac: array([-2.15004804e-06,  6.79563916e-07, -3.48903228e-07,  8.76168500e-07,\n",
       "       -4.08094898e-08, -9.33373610e-07, -5.14435485e-07,  1.70913400e-08,\n",
       "        1.55580134e-08, -9.72584166e-07,  6.97049617e-08,  3.55341225e-08,\n",
       "       -2.79486875e-07,  1.79704525e-07,  2.33384138e-07,  1.47214008e-07,\n",
       "       -2.11821415e-07,  6.16752381e-07, -9.28292367e-08, -5.27386256e-08,\n",
       "       -1.48154606e-06,  2.31318088e-07,  1.80340971e-07, -1.31777371e-07,\n",
       "       -7.16937653e-08, -4.12299766e-07,  1.65638413e-08, -7.34752413e-07])\n",
       " message: 'Converged (|f_n-f_(n-1)| ~= 0)'\n",
       "    nfev: 32\n",
       "     nit: 7\n",
       "  status: 1\n",
       " success: True\n",
       "       x: array([ 1.27271027,  0.62529965,  1.18111686, -2.01987399, -0.91743189,\n",
       "       -1.43166929,  0.12393227, -0.36553118, -0.35725403, -0.17516292,\n",
       "       -1.45817009, -0.05098418, -0.61558554, -0.27469165, -1.19271298,\n",
       "       -0.24217841, -0.20603299, -0.04466178, -0.2777895 , -0.29539513,\n",
       "       -0.45645982, -1.04319155,  0.02779373, -0.2924487 ,  0.0155576 ,\n",
       "       -0.32742405, -0.1438915 , -0.92467487])"
      ]
     },
     "execution_count": 28,
     "metadata": {},
     "output_type": "execute_result"
    }
   ],
   "source": [
    "from scipy.optimize import minimize\n",
    "\n",
    "\n",
    "# Initialize fitting parameters\n",
    "initial_theta = np.zeros(n)\n",
    "# lambda = 1\n",
    "l = 1\n",
    "\n",
    "result = minimize(fun = costFunctionReg,\n",
    "                 x0 = initial_theta,\n",
    "                 args = (X, y, l),\n",
    "                 method = 'TNC',\n",
    "                 jac = gradientFunctionReg)\n",
    "result"
   ]
  },
  {
   "cell_type": "code",
   "execution_count": 29,
   "metadata": {},
   "outputs": [
    {
     "name": "stdout",
     "output_type": "stream",
     "text": [
      "Cost: 0.5290027299645002\n",
      "Theta: [ 1.27271027  0.62529965  1.18111686 -2.01987399 -0.91743189 -1.43166929\n",
      "  0.12393227 -0.36553118 -0.35725403 -0.17516292 -1.45817009 -0.05098418\n",
      " -0.61558554 -0.27469165 -1.19271298 -0.24217841 -0.20603299 -0.04466178\n",
      " -0.2777895  -0.29539513 -0.45645982 -1.04319155  0.02779373 -0.2924487\n",
      "  0.0155576  -0.32742405 -0.1438915  -0.92467487]\n"
     ]
    }
   ],
   "source": [
    "theta = result.x\n",
    "print('Cost: {}'.format(result.fun))\n",
    "print('Theta: {}'.format(theta))"
   ]
  },
  {
   "cell_type": "markdown",
   "metadata": {},
   "source": [
    "### Plot decision boundary"
   ]
  },
  {
   "cell_type": "code",
   "execution_count": 46,
   "metadata": {},
   "outputs": [],
   "source": [
    "def plotDecisionBoundary(theta):\n",
    "    u = np.linspace(-1, 1.5, 50)\n",
    "    v = np.linspace(-1, 1.5, 50)\n",
    "\n",
    "    z = np.zeros((len(u), len(v)))\n",
    "    # Evaluate z = theta*x over the grid\n",
    "    for i in np.arange(len(u)):\n",
    "        for j in np.arange(len(v)):\n",
    "            z[i,j] = np.asscalar(\n",
    "                mapFeature(np.mat(u[i]),np.mat(v[j]), degree=6) @ theta.reshape(-1,1))\n",
    "    z = np.transpose(z)\n",
    "    plt.contour(u, v, z, 0)"
   ]
  },
  {
   "cell_type": "markdown",
   "metadata": {},
   "source": [
    "#### Decision Boundary: $\\lambda = 1$"
   ]
  },
  {
   "cell_type": "code",
   "execution_count": 47,
   "metadata": {},
   "outputs": [
    {
     "data": {
      "image/png": "[encoded data removed]",
      "text/plain": [
       "<Figure size 576x576 with 1 Axes>"
      ]
     },
     "metadata": {},
     "output_type": "display_data"
    }
   ],
   "source": [
    "plot_xy = df.drop('accepted', axis=1).values\n",
    "\n",
    "plotData(plot_xy, y)\n",
    "plotDecisionBoundary(theta)\n",
    "plt.title('Regularized Logistic Regression (lambda = 1)');"
   ]
  },
  {
   "cell_type": "markdown",
   "metadata": {},
   "source": [
    "### Predict on the training set"
   ]
  },
  {
   "cell_type": "code",
   "execution_count": 36,
   "metadata": {},
   "outputs": [
    {
     "name": "stdout",
     "output_type": "stream",
     "text": [
      "Train Accuracy: 0.8305084745762712\n",
      "Expected Accuracy (lambdb = 1): 83.1 (approx)\n"
     ]
    }
   ],
   "source": [
    "# Predict\n",
    "p = sigmoid(X @ theta.reshape(-1,1)) >= 0.5\n",
    "\n",
    "# Compute accuracy\n",
    "print('Train Accuracy: {}'.format( np.mean(p==y)))\n",
    "print('Expected Accuracy (lambdb = 1): 83.1 (approx)')"
   ]
  },
  {
   "cell_type": "markdown",
   "metadata": {},
   "source": [
    "#### Decision Boundary: $\\lambda = 0$ (No regularization & Overfitting)"
   ]
  },
  {
   "cell_type": "code",
   "execution_count": 48,
   "metadata": {},
   "outputs": [
    {
     "name": "stdout",
     "output_type": "stream",
     "text": [
      "Cost: 0.2515905956894092\n",
      "Theta: [   14.43522364    19.59179015     4.74200134  -152.64379677\n",
      "   -86.89586094   -61.39578737  -156.62885633  -116.0037656\n",
      "   -65.15562291    10.96674577   546.98382421   518.55680572\n",
      "   646.55370852   287.20877488    79.54793752   281.79009236\n",
      "   372.5415773    446.44062688   245.93092979    87.10244271\n",
      "   -11.66724644  -643.5175828   -842.69120664 -1238.04077014\n",
      "  -969.84447707  -859.55478969  -336.00749661   -45.97373782]\n"
     ]
    }
   ],
   "source": [
    "# lambda = 0\n",
    "l = 0\n",
    "\n",
    "result = minimize(fun = costFunctionReg,\n",
    "                 x0 = initial_theta,\n",
    "                 args = (X, y, l),\n",
    "                 method = 'TNC',\n",
    "                 jac = gradientFunctionReg)\n",
    "\n",
    "print('Cost: {}'.format(result.fun))\n",
    "print('Theta: {}'.format(result.x))"
   ]
  },
  {
   "cell_type": "code",
   "execution_count": 49,
   "metadata": {},
   "outputs": [
    {
     "data": {
      "image/png": "[encoded data removed]",
      "text/plain": [
       "<Figure size 576x576 with 1 Axes>"
      ]
     },
     "metadata": {},
     "output_type": "display_data"
    }
   ],
   "source": [
    "plotData(plot_xy, y)\n",
    "plotDecisionBoundary(result.x)\n",
    "plt.title('Regularized Logistic Regression (lambda = 0)');"
   ]
  },
  {
   "cell_type": "code",
   "execution_count": 52,
   "metadata": {},
   "outputs": [
    {
     "name": "stdout",
     "output_type": "stream",
     "text": [
      "Train Accuracy: 0.8728813559322034\n"
     ]
    }
   ],
   "source": [
    "p = sigmoid(X @ result.x.reshape(-1,1)) >= 0.5\n",
    "\n",
    "# Compute accuracy\n",
    "print('Train Accuracy: {}'.format( np.mean(p==y)))"
   ]
  },
  {
   "cell_type": "markdown",
   "metadata": {},
   "source": [
    "#### Decision Boudnary: $\\lambda = 100$ (Too much regularization & Underfitting)"
   ]
  },
  {
   "cell_type": "code",
   "execution_count": 36,
   "metadata": {},
   "outputs": [
    {
     "name": "stdout",
     "output_type": "stream",
     "text": [
      "Train Accuracy: 0.8305084745762712\n",
      "Expected Accuracy (lambdb = 1): 83.1 (approx)\n"
     ]
    }
   ],
   "source": [
    "# Predict\n",
    "p = sigmoid(X @ theta.reshape(-1,1)) >= 0.5\n",
    "\n",
    "# Compute accuracy\n",
    "print('Train Accuracy: {}'.format( np.mean(p==y)))\n",
    "print('Expected Accuracy (lambdb = 1): 83.1 (approx)')"
   ]
  }
 ],
 "metadata": {
  "kernelspec": {
   "display_name": "Python 3",
   "language": "python",
   "name": "python3"
  },
  "language_info": {
   "codemirror_mode": {
    "name": "ipython",
    "version": 3
   },
   "file_extension": ".py",
   "mimetype": "text/x-python",
   "name": "python",
   "nbconvert_exporter": "python",
   "pygments_lexer": "ipython3",
   "version": "3.7.0"
  }
 },
 "nbformat": 4,
 "nbformat_minor": 2
}
