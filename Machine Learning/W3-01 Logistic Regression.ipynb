{
 "cells": [
  {
   "cell_type": "markdown",
   "metadata": {},
   "source": [
    "# Logistic Regression\n",
    "To implement a logistic regression model predicting whether a student gets admitted into a university.\n",
    "\n",
    "Suppose that you are the administrator of a university department and\n",
    "you want to determine each applicant's chance of admission based on their\n",
    "results on two exams. You have historical data from previous applicants\n",
    "that you can use as a training set for logistic regression. For each training\n",
    "example, you have the applicant's scores on two exams and the admissions\n",
    "decision."
   ]
  },
  {
   "cell_type": "code",
   "execution_count": 1,
   "metadata": {},
   "outputs": [],
   "source": [
    "import numpy as np\n",
    "import pandas as pd\n",
    "import matplotlib.pyplot as plt"
   ]
  },
  {
   "cell_type": "code",
   "execution_count": 2,
   "metadata": {},
   "outputs": [
    {
     "data": {
      "text/html": [
       "<div>\n",
       "<style scoped>\n",
       "    .dataframe tbody tr th:only-of-type {\n",
       "        vertical-align: middle;\n",
       "    }\n",
       "\n",
       "    .dataframe tbody tr th {\n",
       "        vertical-align: top;\n",
       "    }\n",
       "\n",
       "    .dataframe thead th {\n",
       "        text-align: right;\n",
       "    }\n",
       "</style>\n",
       "<table border=\"1\" class=\"dataframe\">\n",
       "  <thead>\n",
       "    <tr style=\"text-align: right;\">\n",
       "      <th></th>\n",
       "      <th>exam1</th>\n",
       "      <th>exam2</th>\n",
       "      <th>admitted</th>\n",
       "    </tr>\n",
       "  </thead>\n",
       "  <tbody>\n",
       "    <tr>\n",
       "      <th>0</th>\n",
       "      <td>34.623660</td>\n",
       "      <td>78.024693</td>\n",
       "      <td>0</td>\n",
       "    </tr>\n",
       "    <tr>\n",
       "      <th>1</th>\n",
       "      <td>30.286711</td>\n",
       "      <td>43.894998</td>\n",
       "      <td>0</td>\n",
       "    </tr>\n",
       "    <tr>\n",
       "      <th>2</th>\n",
       "      <td>35.847409</td>\n",
       "      <td>72.902198</td>\n",
       "      <td>0</td>\n",
       "    </tr>\n",
       "    <tr>\n",
       "      <th>3</th>\n",
       "      <td>60.182599</td>\n",
       "      <td>86.308552</td>\n",
       "      <td>1</td>\n",
       "    </tr>\n",
       "    <tr>\n",
       "      <th>4</th>\n",
       "      <td>79.032736</td>\n",
       "      <td>75.344376</td>\n",
       "      <td>1</td>\n",
       "    </tr>\n",
       "  </tbody>\n",
       "</table>\n",
       "</div>"
      ],
      "text/plain": [
       "       exam1      exam2  admitted\n",
       "0  34.623660  78.024693         0\n",
       "1  30.286711  43.894998         0\n",
       "2  35.847409  72.902198         0\n",
       "3  60.182599  86.308552         1\n",
       "4  79.032736  75.344376         1"
      ]
     },
     "execution_count": 2,
     "metadata": {},
     "output_type": "execute_result"
    }
   ],
   "source": [
    "df = pd.read_csv('datasets/ex2data1.txt', header=None, names=['exam1', 'exam2','admitted'])\n",
    "df.head()"
   ]
  },
  {
   "cell_type": "code",
   "execution_count": 3,
   "metadata": {},
   "outputs": [],
   "source": [
    "X = df.drop('admitted', axis=1).values\n",
    "y = df['admitted'].values.reshape(-1,1)"
   ]
  },
  {
   "cell_type": "markdown",
   "metadata": {},
   "source": [
    "## EDA"
   ]
  },
  {
   "cell_type": "code",
   "execution_count": 4,
   "metadata": {},
   "outputs": [],
   "source": [
    "def plotData(X, y):\n",
    "    y = y.flatten()\n",
    "    pos, neg = (y==1), (y==0)\n",
    "    x1, x2 = X[:,0], X[:,1]\n",
    "    plt.figure(figsize=(8,8))\n",
    "    plt.plot(X[pos,0], X[pos,1], 'k+', linewidth=2, markersize=8, label='Admitted')\n",
    "    plt.plot(X[neg,0], X[neg,1], 'yo', markersize=8, label='Not admitted')\n",
    "    plt.xlabel('Exam 1 score')\n",
    "    plt.ylabel('Exam 2 score')\n",
    "    plt.legend()"
   ]
  },
  {
   "cell_type": "code",
   "execution_count": 5,
   "metadata": {},
   "outputs": [
    {
     "data": {
      "image/png": "[encoded data removed]",
      "text/plain": [
       "<Figure size 576x576 with 1 Axes>"
      ]
     },
     "metadata": {},
     "output_type": "display_data"
    }
   ],
   "source": [
    "plotData(X, y)"
   ]
  },
  {
   "cell_type": "code",
   "execution_count": 6,
   "metadata": {},
   "outputs": [],
   "source": [
    "m, n = X.shape\n",
    "\n",
    "# Add intercept term (x0 = 1)\n",
    "X = np.hstack((np.ones((m, 1)), X))"
   ]
  },
  {
   "cell_type": "markdown",
   "metadata": {},
   "source": [
    "## Compute Cost and Gradient\n",
    "Originally, from the lesson implemented using Octave, $\\theta$ and gradient vectors are (n+1, 1) shape vector. <br>\n",
    "In order to use scipy's minimize() function, it needs to be reshaped to (1, n+1) size. Also, Cost and Gradient function are to be separated."
   ]
  },
  {
   "cell_type": "code",
   "execution_count": 7,
   "metadata": {},
   "outputs": [],
   "source": [
    "def sigmoid(z):\n",
    "    return 1/(1 + np.exp(-z))\n",
    "\n",
    "def costFunction(theta, X, y):\n",
    "    theta = theta.reshape(-1,1)\n",
    "    \n",
    "    # compute hypothesis h(x)\n",
    "    h = sigmoid(X @ theta)\n",
    "    return np.sum(-y*np.log(h) - (1-y)*np.log(1-h)) / m\n",
    "\n",
    "def gradientFunction(theta, X, y):\n",
    "    m = len(y)\n",
    "    theta = theta.reshape(-1,1)\n",
    "    \n",
    "    # compute hypothesis h(x)\n",
    "    h = sigmoid(X @ theta)\n",
    "    # compute gradients (theta_0, ... theta_n)\n",
    "    grad = np.transpose(X) @ (h-y) / m\n",
    "    \n",
    "    return grad.flatten()\n",
    "\n",
    "# Original implementation\n",
    "# def costFunction(theta, X, y):\n",
    "#     m = len(y)\n",
    "\n",
    "#     # compute hypothesis h(x)\n",
    "#     h = sigmoid(X @ theta)\n",
    "    \n",
    "#     # compute cost J of logistic regression\n",
    "#     J = np.sum(-y*np.log(h) - (1-y)*np.log(1-h)) / m\n",
    "    \n",
    "#     # compute gradients (theta_0, ... theta_n)\n",
    "#     grad = np.transpose(X) @ (h-y) / m\n",
    "    \n",
    "#     return J, grad"
   ]
  },
  {
   "cell_type": "markdown",
   "metadata": {},
   "source": [
    "#### Test case: theta = [0; 0; 0]"
   ]
  },
  {
   "cell_type": "code",
   "execution_count": 8,
   "metadata": {},
   "outputs": [
    {
     "name": "stdout",
     "output_type": "stream",
     "text": [
      "Cost at initial theta (zeros): 0.6931471805599453\n",
      "Expected cost (approx): 0.693\n",
      "\n",
      "Gradient at initial theta (zeros):\n",
      "[ -0.1        -12.00921659 -11.26284221]\n",
      "Expected gradients (approx):\n",
      "[ -0.1 -12.0092 -11.2628 ]\n"
     ]
    }
   ],
   "source": [
    "initial_theta = np.zeros(n+1)\n",
    "cost = costFunction(initial_theta, X, y)\n",
    "grad = gradientFunction(initial_theta, X, y)\n",
    "# costFunction(initial_theta, X, y)\n",
    "\n",
    "print('Cost at initial theta (zeros): {}'.format(cost))\n",
    "print('Expected cost (approx): 0.693\\n')\n",
    "print('Gradient at initial theta (zeros):\\n{}'.format(grad))\n",
    "print('Expected gradients (approx):\\n[ -0.1 -12.0092 -11.2628 ]')"
   ]
  },
  {
   "cell_type": "markdown",
   "metadata": {},
   "source": [
    "#### Test case: theta = [-24; 0.2; 0.2]"
   ]
  },
  {
   "cell_type": "code",
   "execution_count": 9,
   "metadata": {},
   "outputs": [
    {
     "name": "stdout",
     "output_type": "stream",
     "text": [
      "Cost at test theta: 0.21833019382659785\n",
      "Expected cost (approx): 0.218\n",
      "\n",
      "Gradient at test theta:\n",
      "[0.04290299 2.56623412 2.64679737]\n",
      "Expected gradients (approx):\n",
      "[ 0.043 2.566 2.647 ]\n"
     ]
    }
   ],
   "source": [
    "test_theta = np.array([-24,0.2,0.2])\n",
    "cost = costFunction(test_theta, X, y)\n",
    "grad = gradientFunction(test_theta, X, y)\n",
    "\n",
    "print('Cost at test theta: {}'.format(cost))\n",
    "print('Expected cost (approx): 0.218\\n')\n",
    "print('Gradient at test theta:\\n{}'.format(grad))\n",
    "print('Expected gradients (approx):\\n[ 0.043 2.566 2.647 ]')"
   ]
  },
  {
   "cell_type": "markdown",
   "metadata": {},
   "source": [
    "## Optimizing cost"
   ]
  },
  {
   "cell_type": "code",
   "execution_count": 10,
   "metadata": {},
   "outputs": [
    {
     "data": {
      "text/plain": [
       "     fun: 0.20349770158947475\n",
       "     jac: array([8.86249424e-09, 7.33646598e-08, 4.72732538e-07])\n",
       " message: 'Local minimum reached (|pg| ~= 0)'\n",
       "    nfev: 36\n",
       "     nit: 17\n",
       "  status: 0\n",
       " success: True\n",
       "       x: array([-25.1613186 ,   0.20623159,   0.20147149])"
      ]
     },
     "execution_count": 10,
     "metadata": {},
     "output_type": "execute_result"
    }
   ],
   "source": [
    "from scipy.optimize import minimize\n",
    "\n",
    "result = minimize(fun = costFunction,\n",
    "                 x0 = initial_theta,\n",
    "                 args = (X, y),\n",
    "                 method = 'TNC',\n",
    "                 jac = gradientFunction)\n",
    "result"
   ]
  },
  {
   "cell_type": "code",
   "execution_count": 11,
   "metadata": {},
   "outputs": [
    {
     "name": "stdout",
     "output_type": "stream",
     "text": [
      "Cost at theta: 0.20349770158947475\n",
      "Expected cost (approx): 0.203\n",
      "\n",
      "Theta:\n",
      "[-25.1613186    0.20623159   0.20147149]\n",
      "Expected theta (approx):\n",
      "[-25.161 0.206 0.201]\n"
     ]
    }
   ],
   "source": [
    "theta = result.x\n",
    "print('Cost at theta: {}'.format(result.fun))\n",
    "print('Expected cost (approx): 0.203\\n')\n",
    "print('Theta:\\n{}'.format(result.x))\n",
    "print('Expected theta (approx):\\n[-25.161 0.206 0.201]')"
   ]
  },
  {
   "cell_type": "markdown",
   "metadata": {},
   "source": [
    "### Plot decision boundary (linear)"
   ]
  },
  {
   "cell_type": "code",
   "execution_count": 12,
   "metadata": {},
   "outputs": [
    {
     "data": {
      "image/png": "[encoded data removed]",
      "text/plain": [
       "<Figure size 576x576 with 1 Axes>"
      ]
     },
     "metadata": {},
     "output_type": "display_data"
    }
   ],
   "source": [
    "# 2 endpoints of x1 range\n",
    "x1 = np.array([min(X[:,1]) - 2, max(X[:,1]) + 2])\n",
    "x2 = -1/theta[2]*(theta[1] * x1 + theta[0])\n",
    "\n",
    "plotData(X[:,1:3], y)\n",
    "plt.plot(x1, x2);"
   ]
  },
  {
   "cell_type": "markdown",
   "metadata": {},
   "source": [
    "## Predict and Accuracies\n",
    "Predict probability for a student with score 45 and 85 for exam 1, 2 respectively."
   ]
  },
  {
   "cell_type": "code",
   "execution_count": 13,
   "metadata": {},
   "outputs": [
    {
     "name": "stdout",
     "output_type": "stream",
     "text": [
      "For a student with scores 45 and 85, we predict an admission probability of\n",
      "Probablity: 0.7762906239711086\n",
      "Expected value: 0.775 +/- 0.002\n"
     ]
    }
   ],
   "source": [
    "theta = theta.reshape(-1,1)\n",
    "\n",
    "prob = sigmoid(np.array([1,45,85]) @ theta)\n",
    "print('For a student with scores 45 and 85, we predict an admission probability of\\nProbablity: {}'.format(prob[0]))\n",
    "print('Expected value: 0.775 +/- 0.002')"
   ]
  },
  {
   "cell_type": "markdown",
   "metadata": {},
   "source": [
    "### Predict on the training set and measure accuracy"
   ]
  },
  {
   "cell_type": "code",
   "execution_count": 14,
   "metadata": {},
   "outputs": [
    {
     "name": "stdout",
     "output_type": "stream",
     "text": [
      "Train accuracy: 89\n",
      "Expected accuracy (approx): 89.0\n"
     ]
    }
   ],
   "source": [
    "# predict on X\n",
    "p = sigmoid(X @ theta) >= 0.5\n",
    "\n",
    "acc = np.sum(p == y)\n",
    "\n",
    "print('Train accuracy: {}'.format(acc))\n",
    "print('Expected accuracy (approx): 89.0')"
   ]
  },
  {
   "cell_type": "markdown",
   "metadata": {},
   "source": [
    "***\n",
    "# Scikit-learn implementation"
   ]
  },
  {
   "cell_type": "code",
   "execution_count": 143,
   "metadata": {},
   "outputs": [],
   "source": [
    "from sklearn.linear_model import LogisticRegression\n",
    "from sklearn.model_selection import train_test_split, GridSearchCV\n",
    "from sklearn.metrics import confusion_matrix, classification_report\n",
    "from sklearn.preprocessing import StandardScaler\n",
    "from sklearn.pipeline import Pipeline\n",
    "\n",
    "\n",
    "X2 = X[:,1:3]\n",
    "y2 = y.flatten()"
   ]
  },
  {
   "cell_type": "markdown",
   "metadata": {},
   "source": [
    "### LogisticRegression usiing scikit-learn"
   ]
  },
  {
   "cell_type": "code",
   "execution_count": 144,
   "metadata": {},
   "outputs": [
    {
     "name": "stdout",
     "output_type": "stream",
     "text": [
      "[[34  6]\n",
      " [ 5 55]]\n",
      "             precision    recall  f1-score   support\n",
      "\n",
      "          0       0.87      0.85      0.86        40\n",
      "          1       0.90      0.92      0.91        60\n",
      "\n",
      "avg / total       0.89      0.89      0.89       100\n",
      "\n"
     ]
    }
   ],
   "source": [
    "logreg = LogisticRegression(solver='newton-cg', max_iter=400)\n",
    "\n",
    "# fit training data\n",
    "logreg.fit(X2, y2)\n",
    "\n",
    "# predict on the training data\n",
    "y_pred = logreg.predict(X2)\n",
    "\n",
    "print(confusion_matrix(y2, y_pred))\n",
    "print(classification_report(y2, y_pred))"
   ]
  },
  {
   "cell_type": "markdown",
   "metadata": {},
   "source": [
    "### Compare the result"
   ]
  },
  {
   "cell_type": "code",
   "execution_count": 147,
   "metadata": {},
   "outputs": [
    {
     "name": "stdout",
     "output_type": "stream",
     "text": [
      "Theta from exercise: [-25.1613186    0.20623159   0.20147149]\n",
      "Theta from scikit-learn: [-25.05200379   0.2053533    0.20058239]\n",
      "\n",
      "Accuracy from exercise: 89\n",
      "Accuracy from scikit-learn: 89\n",
      "\n",
      "             precision    recall  f1-score   support\n",
      "\n",
      "          0       0.87      0.85      0.86        40\n",
      "          1       0.90      0.92      0.91        60\n",
      "\n",
      "avg / total       0.89      0.89      0.89       100\n",
      "\n"
     ]
    }
   ],
   "source": [
    "print('Theta from exercise: {}'.format(theta.flatten()))\n",
    "print('Theta from scikit-learn: {}\\n'.format(\n",
    "    np.append(logreg.intercept_, logreg.coef_)))\n",
    "\n",
    "print('Accuracy from exercise: {}'.format(acc))\n",
    "print('Accuracy from scikit-learn: {}\\n'.format(np.sum(y_pred == y2)))\n",
    "print(classification_report(y2, y_pred))"
   ]
  },
  {
   "cell_type": "markdown",
   "metadata": {},
   "source": [
    "### Actual Training (Pipeline, Scaling, Parameter Tuning)"
   ]
  },
  {
   "cell_type": "code",
   "execution_count": 148,
   "metadata": {},
   "outputs": [
    {
     "data": {
      "text/plain": [
       "GridSearchCV(cv=5, error_score='raise',\n",
       "       estimator=Pipeline(memory=None,\n",
       "     steps=[('scaler', StandardScaler(copy=True, with_mean=True, with_std=True)), ('logreg', LogisticRegression(C=1.0, class_weight=None, dual=False, fit_intercept=True,\n",
       "          intercept_scaling=1, max_iter=100, multi_class='ovr', n_jobs=1,\n",
       "          penalty='l2', random_state=None, solver='liblinear', tol=0.0001,\n",
       "          verbose=0, warm_start=False))]),\n",
       "       fit_params=None, iid=True, n_jobs=1,\n",
       "       param_grid={'logreg__C': array([1.00000e-05, 1.84207e-05, 3.39322e-05, 6.25055e-05, 1.15140e-04,\n",
       "       2.12095e-04, 3.90694e-04, 7.19686e-04, 1.32571e-03, 2.44205e-03,\n",
       "       4.49843e-03, 8.28643e-03, 1.52642e-02, 2.81177e-02, 5.17947e-02,\n",
       "       9.54095e-02, 1.75751e-01, 3.23746e-01, 5.96362e-01, ... 8.68511e+06, 1.59986e+07, 2.94705e+07, 5.42868e+07, 1.00000e+08]), 'logreg__penalty': ['l1', 'l2']},\n",
       "       pre_dispatch='2*n_jobs', refit=True, return_train_score='warn',\n",
       "       scoring=None, verbose=0)"
      ]
     },
     "execution_count": 148,
     "metadata": {},
     "output_type": "execute_result"
    }
   ],
   "source": [
    "steps = [('scaler', StandardScaler()),\n",
    "        ('logreg', LogisticRegression())]\n",
    "\n",
    "pipeline = Pipeline(steps)\n",
    "\n",
    "# Create the hyperparameter grid\n",
    "c_space = np.logspace(-5, 8, 50)\n",
    "parameters = dict(logreg__C=c_space, logreg__penalty=['l1','l2'])\n",
    "\n",
    "# Hold out test_data\n",
    "X_train, X_test, y_train, y_test = train_test_split(X2, y2, test_size=0.2, \n",
    "                                                    stratify=y2, \n",
    "                                                    random_state=42)\n",
    "# Create GridSearchCV\n",
    "cv = GridSearchCV(pipeline, param_grid=parameters, cv=5)\n",
    "\n",
    "# Fit to the training set\n",
    "cv.fit(X_train, y_train)"
   ]
  },
  {
   "cell_type": "code",
   "execution_count": 149,
   "metadata": {},
   "outputs": [
    {
     "name": "stdout",
     "output_type": "stream",
     "text": [
      "Tuned parameters: {'logreg__C': 1.0985411419875595, 'logreg__penalty': 'l2'}\n",
      "Best score: 0.9\n"
     ]
    }
   ],
   "source": [
    "print('Tuned parameters: {}'.format(cv.best_params_))\n",
    "print('Best score: {}'.format(cv.best_score_))"
   ]
  },
  {
   "cell_type": "markdown",
   "metadata": {},
   "source": [
    "#### Predict"
   ]
  },
  {
   "cell_type": "code",
   "execution_count": 150,
   "metadata": {},
   "outputs": [
    {
     "name": "stdout",
     "output_type": "stream",
     "text": [
      "Accuracy after tuning: 0.95\n",
      "\n",
      "             precision    recall  f1-score   support\n",
      "\n",
      "          0       0.89      1.00      0.94         8\n",
      "          1       1.00      0.92      0.96        12\n",
      "\n",
      "avg / total       0.96      0.95      0.95        20\n",
      "\n"
     ]
    }
   ],
   "source": [
    "y_pred = cv.predict(X_test)\n",
    "print('Accuracy after tuning: {}\\n'.format(cv.score(X_test, y_test)))\n",
    "print(classification_report(y_test, y_pred))"
   ]
  },
  {
   "cell_type": "code",
   "execution_count": null,
   "metadata": {},
   "outputs": [],
   "source": [
    "0.89 -> 0.95 accuracy on the ho"
   ]
  }
 ],
 "metadata": {
  "kernelspec": {
   "display_name": "Python 3",
   "language": "python",
   "name": "python3"
  },
  "language_info": {
   "codemirror_mode": {
    "name": "ipython",
    "version": 3
   },
   "file_extension": ".py",
   "mimetype": "text/x-python",
   "name": "python",
   "nbconvert_exporter": "python",
   "pygments_lexer": "ipython3",
   "version": "3.7.0"
  }
 },
 "nbformat": 4,
 "nbformat_minor": 2
}
