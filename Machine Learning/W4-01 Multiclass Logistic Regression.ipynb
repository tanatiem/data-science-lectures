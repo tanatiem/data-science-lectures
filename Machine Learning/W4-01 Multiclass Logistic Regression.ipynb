{
 "cells": [
  {
   "cell_type": "markdown",
   "metadata": {},
   "source": [
    "# Multi-class Classification\n",
    "To use logistic regression to recognize handwritten digits (from 0 to 9). Using regularized logistic regression and apply it to one-vs-all classificaiton.\n",
    "\n",
    "## Dataset\n",
    "The dataset for the exercise was originally comes in .mat file which I use Octave to export it to a csv file. \n",
    "\n",
    "There are 5,000 training examples of handwritten digits, where each traininig example is a 20 by 20 pixel grayscale image of the digit. Each pixel is represented by a floating point number indicating the grayscale intensity at the location. The 20 by 20 grid of pixels is unrolled into a 400-dimensional vector. Each of these training examples becomes a single row in our data matrix X.\n",
    "\n",
    "There is also 5000-dimensional vector y that contains labels for the training set. Note that 0 is represented as 10 to avoid confusion with MATLAB/Octave indexing system at 1, while the digits 1 to 9 are labeled as 1 to 9 in their natural order."
   ]
  },
  {
   "cell_type": "code",
   "execution_count": 1,
   "metadata": {},
   "outputs": [],
   "source": [
    "import numpy as np\n",
    "import pandas as pd\n",
    "import matplotlib.pyplot as plt"
   ]
  },
  {
   "cell_type": "code",
   "execution_count": 56,
   "metadata": {},
   "outputs": [
    {
     "data": {
      "text/plain": [
       "(5000, 400)"
      ]
     },
     "execution_count": 56,
     "metadata": {},
     "output_type": "execute_result"
    }
   ],
   "source": [
    "data = pd.read_csv('datasets/ex3digits.csv', header=None)\n",
    "X = data.values\n",
    "X.shape"
   ]
  },
  {
   "cell_type": "code",
   "execution_count": 57,
   "metadata": {},
   "outputs": [
    {
     "data": {
      "text/plain": [
       "(5000, 1)"
      ]
     },
     "execution_count": 57,
     "metadata": {},
     "output_type": "execute_result"
    }
   ],
   "source": [
    "labels = pd.read_csv('datasets/ex3labels.csv', header=None)\n",
    "y = labels.values\n",
    "y.shape"
   ]
  },
  {
   "cell_type": "markdown",
   "metadata": {},
   "source": [
    "## EDA"
   ]
  },
  {
   "cell_type": "code",
   "execution_count": 148,
   "metadata": {},
   "outputs": [
    {
     "data": {
      "image/png": "[encoded data removed]",
      "text/plain": [
       "<Figure size 1800x720 with 10 Axes>"
      ]
     },
     "metadata": {},
     "output_type": "display_data"
    }
   ],
   "source": [
    "# randomly pick index of image samples for 0-9 each (label 1-10) \n",
    "image_idx = [ np.random.choice(np.where(y==i)[0]) for i in np.arange(1,11) ]\n",
    "\n",
    "# Plot an example for each label\n",
    "fig, axes = plt.subplots(2, 5,figsize=(25,10))\n",
    "for i in np.arange(2):\n",
    "    for j in np.arange(5):\n",
    "        im = X[image_idx[5*i+j],:].reshape(-20,20, order='F')\n",
    "        axes[i,j].imshow(im, cmap=plt.cm.gray_r)"
   ]
  },
  {
   "cell_type": "markdown",
   "metadata": {},
   "source": [
    "## Logistic Regression Cost function (regularized)\n",
    "Use the same code as in the previous exercise."
   ]
  },
  {
   "cell_type": "code",
   "execution_count": 260,
   "metadata": {},
   "outputs": [],
   "source": [
    "def sigmoid(z):\n",
    "    return 1/(1 + np.exp(-z))\n",
    "\n",
    "def costFunctionReg(theta, X, y, l):\n",
    "    m = len(y)\n",
    "    theta = theta.reshape(-1,1)\n",
    "    \n",
    "    # compute hypothesis h(x)\n",
    "    h = sigmoid(X @ theta)\n",
    "    \n",
    "    # theta 0 is not regularized\n",
    "    J = -1/m * np.sum(y*np.log(h) + (1-y)*np.log(1-h)) \\\n",
    "        + l/(2*m) * np.sum(theta[1:]**2)\n",
    "        \n",
    "    return J\n",
    "\n",
    "def gradientFunctionReg(theta, X, y, l):\n",
    "    m = len(y)\n",
    "    theta = theta.reshape(-1,1)\n",
    "    \n",
    "    # compute hypothesis h(x)\n",
    "    h = sigmoid(X @ theta)\n",
    "    \n",
    "    grad = np.zeros((X.shape[1], 1))\n",
    "    # compute gradient for theta 0 (not regularized)\n",
    "    grad[0,0] = 1/m * np.sum(h - y)\n",
    "\n",
    "    # compute gradients (theta_0, ... theta_n)\n",
    "    grad[1:] = (np.transpose(X[:,1:]) @ (h-y))/m + (l/m * theta[1:])\n",
    "    \n",
    "    return grad.flatten()"
   ]
  },
  {
   "cell_type": "markdown",
   "metadata": {},
   "source": [
    "#### Testing Cost Function"
   ]
  },
  {
   "cell_type": "code",
   "execution_count": 261,
   "metadata": {},
   "outputs": [
    {
     "name": "stdout",
     "output_type": "stream",
     "text": [
      "Cost: 2.534819396109744\n",
      "Expected cost: 2.534819\n",
      "Gradients:\n",
      "[ 0.14656137 -0.54855841  0.72472227  1.39800296]\n",
      "Expected gradients:\n",
      "[ 0.146561  -0.548558  0.724722  1.398003]\n"
     ]
    }
   ],
   "source": [
    "theta_t = np.array([-2, -1, 1, 2])\n",
    "X_t = np.append(np.ones((5,1)),np.arange(1,16).reshape(5,3,order='F')/10,axis=1)\n",
    "y_t = np.array([1,0,1,0,1]).reshape(-1,1)\n",
    "lambda_t = 3\n",
    "\n",
    "cost = costFunctionReg(theta_t, X_t, y_t, lambda_t)\n",
    "grad = gradientFunctionReg(theta_t, X_t, y_t, lambda_t)\n",
    "\n",
    "print('Cost: {}'.format(cost))\n",
    "print('Expected cost: 2.534819')\n",
    "print('Gradients:\\n{}'.format(grad))\n",
    "print('Expected gradients:\\n[ 0.146561  -0.548558  0.724722  1.398003]')"
   ]
  },
  {
   "cell_type": "markdown",
   "metadata": {},
   "source": [
    "## One-vs-all Classification\n",
    "To train multiple regularized logistic regression classifiers, one for each of the K (=10) classes in the dataset. The matrix $\\Theta \\in \\mathbb{R}^{K*(N+1)}$, where each row of $\\Theta$ corresponds to the learned logistic regression parameters for one class."
   ]
  },
  {
   "cell_type": "code",
   "execution_count": 183,
   "metadata": {},
   "outputs": [],
   "source": [
    "m,n = X.shape\n",
    "num_labels = 10\n",
    "\n",
    "all_theta = np.zeros((num_labels, n+1))\n",
    "\n",
    "# Add ones to the X data matrix\n",
    "X = np.append(np.ones((m,1)), X, axis=1)\n",
    "\n",
    "# Initial theta\n",
    "initial_theta = np.zeros(n+1)"
   ]
  },
  {
   "cell_type": "markdown",
   "metadata": {},
   "source": [
    "### Optimizing for all classifiers"
   ]
  },
  {
   "cell_type": "code",
   "execution_count": 299,
   "metadata": {},
   "outputs": [
    {
     "name": "stdout",
     "output_type": "stream",
     "text": [
      "Optimizing class: 1...\n",
      "Optimization terminated successfully.\n",
      "         Current function value: 0.013123\n",
      "         Iterations: 121\n",
      "         Function evaluations: 466\n",
      "         Gradient evaluations: 466\n",
      "Optimizing class: 2...\n",
      "Optimization terminated successfully.\n",
      "         Current function value: 0.050812\n",
      "         Iterations: 264\n",
      "         Function evaluations: 804\n",
      "         Gradient evaluations: 804\n",
      "Optimizing class: 3...\n",
      "Optimization terminated successfully.\n",
      "         Current function value: 0.057608\n",
      "         Iterations: 205\n",
      "         Function evaluations: 611\n",
      "         Gradient evaluations: 611\n",
      "Optimizing class: 4...\n",
      "Optimization terminated successfully.\n",
      "         Current function value: 0.033066\n",
      "         Iterations: 214\n",
      "         Function evaluations: 715\n",
      "         Gradient evaluations: 715\n",
      "Optimizing class: 5...\n",
      "Optimization terminated successfully.\n",
      "         Current function value: 0.054467\n",
      "         Iterations: 242\n",
      "         Function evaluations: 712\n",
      "         Gradient evaluations: 712\n",
      "Optimizing class: 6...\n",
      "Optimization terminated successfully.\n",
      "         Current function value: 0.018261\n",
      "         Iterations: 134\n",
      "         Function evaluations: 492\n",
      "         Gradient evaluations: 492\n",
      "Optimizing class: 7...\n",
      "Optimization terminated successfully.\n",
      "         Current function value: 0.030657\n",
      "         Iterations: 170\n",
      "         Function evaluations: 566\n",
      "         Gradient evaluations: 566\n",
      "Optimizing class: 8...\n",
      "Optimization terminated successfully.\n",
      "         Current function value: 0.078455\n",
      "         Iterations: 278\n",
      "         Function evaluations: 765\n",
      "         Gradient evaluations: 765\n",
      "Optimizing class: 9...\n",
      "Optimization terminated successfully.\n",
      "         Current function value: 0.071191\n",
      "         Iterations: 267\n",
      "         Function evaluations: 753\n",
      "         Gradient evaluations: 753\n",
      "Optimizing class: 10...\n",
      "Optimization terminated successfully.\n",
      "         Current function value: 0.008577\n",
      "         Iterations: 100\n",
      "         Function evaluations: 384\n",
      "         Gradient evaluations: 384\n"
     ]
    }
   ],
   "source": [
    "from scipy.optimize import minimize, fmin_cg\n",
    "\n",
    "l = 0.1\n",
    "# for c in np.arange(1, num_labels+1):\n",
    "#     result = minimize(fun = costFunctionReg,\n",
    "#                      x0 = initial_theta,\n",
    "#                      args = (X, (y == c), l),\n",
    "#                      method = 'CG',\n",
    "#                      jac = gradientFunctionReg),\n",
    "#                     options={'maxiter':50})\n",
    "#     all_theta[c - 1,:] = result.x\n",
    "    \n",
    "for c in np.arange(1, num_labels+1):\n",
    "    print('Optimizing class: {}...'.format(c))\n",
    "    result = fmin_cg(f = costFunctionReg,\n",
    "                     x0 = initial_theta,\n",
    "                     args = (X, (y == c), l),\n",
    "                     fprime = gradientFunctionReg)\n",
    "    all_theta[c - 1,:] = result"
   ]
  },
  {
   "cell_type": "markdown",
   "metadata": {},
   "source": [
    "### Predict\n",
    "Use the max probability"
   ]
  },
  {
   "cell_type": "code",
   "execution_count": 311,
   "metadata": {},
   "outputs": [
    {
     "name": "stdout",
     "output_type": "stream",
     "text": [
      "Training accuracy: 0.9646\n"
     ]
    }
   ],
   "source": [
    "pred = np.argmax(sigmoid(X @ np.transpose(all_theta)), axis=1) + 1\n",
    "print('Training accuracy: {}'.format(np.mean(pred == y.flatten())))"
   ]
  }
 ],
 "metadata": {
  "kernelspec": {
   "display_name": "Python 3",
   "language": "python",
   "name": "python3"
  },
  "language_info": {
   "codemirror_mode": {
    "name": "ipython",
    "version": 3
   },
   "file_extension": ".py",
   "mimetype": "text/x-python",
   "name": "python",
   "nbconvert_exporter": "python",
   "pygments_lexer": "ipython3",
   "version": "3.7.0"
  }
 },
 "nbformat": 4,
 "nbformat_minor": 2
}
