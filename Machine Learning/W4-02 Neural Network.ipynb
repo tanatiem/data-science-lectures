{
 "cells": [
  {
   "cell_type": "markdown",
   "metadata": {},
   "source": [
    "# Neural Networks\n",
    "To implement a neural network to recognize handwritten digits. The neural network will be able to represent complex models that form non-linear hypotheses. For this exercise, the parameters from a neural network that is already trained is provided. The goal is to implement the feedforward propagation algorithm.\n",
    "\n",
    "## Model representation\n",
    "For this problem set, there are 3 layers - an input layer, a hiddel layer, and an output layer. The inputs are pixel values of digit images of 20 x 20 which makes 400 input layer units + 1 extra bias unit. There are 25 units at the hiden layers and 10 units at the output layer to represent classifiers for each out class.\n",
    "\n",
    "The provided network parametres ($\\Theta^{(1)}$, $\\Theta^{(2)}$) are already are already trained."
   ]
  },
  {
   "cell_type": "code",
   "execution_count": 13,
   "metadata": {},
   "outputs": [],
   "source": [
    "import numpy as np\n",
    "import pandas as pd\n",
    "import matplotlib.pyplot as plt"
   ]
  },
  {
   "cell_type": "code",
   "execution_count": 14,
   "metadata": {},
   "outputs": [],
   "source": [
    "data = pd.read_csv('datasets/ex3digits.csv', header=None)\n",
    "X = data.values\n",
    "\n",
    "labels = pd.read_csv('datasets/ex3labels.csv', header=None)\n",
    "y = labels[0].values"
   ]
  },
  {
   "cell_type": "code",
   "execution_count": 40,
   "metadata": {},
   "outputs": [
    {
     "name": "stdout",
     "output_type": "stream",
     "text": [
      "Theta1 has size: (25, 401)\n"
     ]
    }
   ],
   "source": [
    "Theta1 = pd.read_csv('datasets/ex3theta1.csv', header=None)\n",
    "Theta1 = Theta1.values\n",
    "print('Theta1 has size: {}'.format(Theta1.shape))"
   ]
  },
  {
   "cell_type": "code",
   "execution_count": 41,
   "metadata": {},
   "outputs": [
    {
     "name": "stdout",
     "output_type": "stream",
     "text": [
      "Theta2 has size: (10, 26)\n"
     ]
    }
   ],
   "source": [
    "Theta2 = pd.read_csv('datasets/ex3theta2.csv', header=None)\n",
    "Theta2 = Theta2.values\n",
    "print('Theta2 has size: {}'.format(Theta2.shape))"
   ]
  },
  {
   "cell_type": "code",
   "execution_count": 17,
   "metadata": {},
   "outputs": [],
   "source": [
    "def sigmoid(z):\n",
    "    return 1/(1 + np.exp(-z))"
   ]
  },
  {
   "cell_type": "code",
   "execution_count": 18,
   "metadata": {},
   "outputs": [
    {
     "data": {
      "text/plain": [
       "(5000, 401)"
      ]
     },
     "execution_count": 18,
     "metadata": {},
     "output_type": "execute_result"
    }
   ],
   "source": [
    "m, n = X.shape\n",
    "\n",
    "X = np.append(np.ones((m,1)),X, axis=1)\n",
    "X.shape"
   ]
  },
  {
   "cell_type": "markdown",
   "metadata": {},
   "source": [
    "### Feedforward Propagation\n",
    "\n",
    "$a^{(1)} = x$  (add $a_0^{(1)}$)\n",
    "\n",
    "$z^{(2)} = \\Theta^{(1)}a^{(1)}$<br>\n",
    "$a^{(2)} = g(z^{(2)}$  (add $a_0^{(2)}$)\n",
    "\n",
    "$z^{(3)} = \\Theta^{(2)}a^{(2)}$<br>\n",
    "$a^{(3)} = g(z^{(3)} = h_\\theta(x)$  "
   ]
  },
  {
   "cell_type": "code",
   "execution_count": 26,
   "metadata": {},
   "outputs": [],
   "source": [
    "z2 = X @ Theta1.T\n",
    "a2 = sigmoid(z2)"
   ]
  },
  {
   "cell_type": "code",
   "execution_count": 27,
   "metadata": {},
   "outputs": [],
   "source": [
    "a2 = np.append(np.ones((a2.shape[0], 1)), a2, axis=1)\n",
    "\n",
    "z3 = a2 @ Theta2.T\n",
    "a3 = sigmoid(z3)"
   ]
  },
  {
   "cell_type": "code",
   "execution_count": 29,
   "metadata": {},
   "outputs": [
    {
     "data": {
      "text/plain": [
       "(5000, 10)"
      ]
     },
     "execution_count": 29,
     "metadata": {},
     "output_type": "execute_result"
    }
   ],
   "source": [
    "a3.shape"
   ]
  },
  {
   "cell_type": "markdown",
   "metadata": {},
   "source": [
    "### Predict"
   ]
  },
  {
   "cell_type": "code",
   "execution_count": 33,
   "metadata": {},
   "outputs": [],
   "source": [
    "y_prob, y_pred = np.max(a3, axis=1), np.argmax(a3, axis=1) + 1"
   ]
  },
  {
   "cell_type": "code",
   "execution_count": 44,
   "metadata": {},
   "outputs": [
    {
     "name": "stdout",
     "output_type": "stream",
     "text": [
      "Accuracy: 0.9752\n"
     ]
    }
   ],
   "source": [
    "print('Accuracy: {}'.format(np.mean(y_pred == y)))"
   ]
  }
 ],
 "metadata": {
  "kernelspec": {
   "display_name": "Python 3",
   "language": "python",
   "name": "python3"
  },
  "language_info": {
   "codemirror_mode": {
    "name": "ipython",
    "version": 3
   },
   "file_extension": ".py",
   "mimetype": "text/x-python",
   "name": "python",
   "nbconvert_exporter": "python",
   "pygments_lexer": "ipython3",
   "version": "3.7.0"
  }
 },
 "nbformat": 4,
 "nbformat_minor": 2
}
