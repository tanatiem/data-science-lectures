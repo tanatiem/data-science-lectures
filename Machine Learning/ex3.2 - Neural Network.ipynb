{
 "cells": [
  {
   "cell_type": "markdown",
   "metadata": {},
   "source": [
    "# Neural Networks\n",
    "To implement a neural network to recognize handwritten digits. The neural network will be able to represent complex models that form non-linear hypotheses. For this exercise, the parameters from a neural network that is already trained is provided. The goal is to implement the feedforward propagation algorithm.\n",
    "\n",
    "## Model representation\n",
    "For this problem set, there are 3 layers - an input layer, a hiddel layer, and an output layer. The inputs are pixel values of digit images of 20 x 20 which makes 400 input layer units + 1 extra bias unit. There are 25 units at the hiden layers and 10 units at the output layer to represent classifiers for each out class.\n",
    "\n",
    "The provided network parametres ($\\Theta^{(1)}$, $\\Theta^{(2)}$) are already are already trained."
   ]
  },
  {
   "cell_type": "code",
   "execution_count": 14,
   "metadata": {},
   "outputs": [],
   "source": [
    "import numpy as np\n",
    "import pandas as pd\n",
    "import matplotlib.pyplot as plt\n",
    "import scipy.io"
   ]
  },
  {
   "cell_type": "code",
   "execution_count": 15,
   "metadata": {},
   "outputs": [
    {
     "name": "stdout",
     "output_type": "stream",
     "text": [
      "X shape: (5000, 400)\n",
      "y shape: (5000, 1)\n"
     ]
    }
   ],
   "source": [
    "mat = scipy.io.loadmat('datasets/ex3data1.mat')\n",
    "X, y = mat['X'], mat['y']\n",
    "print('X shape: {}'.format(X.shape))\n",
    "print('y shape: {}'.format(y.shape))"
   ]
  },
  {
   "cell_type": "code",
   "execution_count": 16,
   "metadata": {},
   "outputs": [
    {
     "name": "stdout",
     "output_type": "stream",
     "text": [
      "Theta1 shape: (25, 401)\n",
      "Theta2 shape: (10, 26)\n"
     ]
    }
   ],
   "source": [
    "mat = scipy.io.loadmat('datasets/ex3weights.mat')\n",
    "Theta1, Theta2 = mat['Theta1'], mat['Theta2']\n",
    "\n",
    "print('Theta1 shape: {}'.format(Theta1.shape))\n",
    "print('Theta2 shape: {}'.format(Theta2.shape))"
   ]
  },
  {
   "cell_type": "markdown",
   "metadata": {},
   "source": [
    "### Feedforward Propagation\n",
    "\n",
    "$a^{(1)} = x$  (add $a_0^{(1)}$)\n",
    "\n",
    "$z^{(2)} = \\Theta^{(1)}a^{(1)}$<br>\n",
    "$a^{(2)} = g(z^{(2)})$  (add $a_0^{(2)}$)\n",
    "\n",
    "$z^{(3)} = \\Theta^{(2)}a^{(2)}$<br>\n",
    "$a^{(3)} = g(z^{(3)}) = h_\\theta(x)$  "
   ]
  },
  {
   "cell_type": "code",
   "execution_count": 17,
   "metadata": {},
   "outputs": [
    {
     "name": "stdout",
     "output_type": "stream",
     "text": [
      "h(x) shape: (5000, 10)\n"
     ]
    }
   ],
   "source": [
    "def sigmoid(z):\n",
    "    return 1/(1 + np.exp(-z))\n",
    "\n",
    "m, n = X.shape\n",
    "\n",
    "a1 = np.insert(X, 0, 1, 1) # (5000,401)\n",
    "\n",
    "z2 = a1 @ Theta1.T # (5000,401)x(401,25) -> (5000,25)\n",
    "a2 = sigmoid(z2) \n",
    "\n",
    "a2 = np.insert(a2, 0, 1, 1) # (5000,26)\n",
    "\n",
    "z3 = a2 @ Theta2.T # (5000,26)x(26,10) -> (5000,10)\n",
    "a3 = sigmoid(z3)\n",
    "\n",
    "print('h(x) shape: {}'.format(a3.shape))"
   ]
  },
  {
   "cell_type": "markdown",
   "metadata": {},
   "source": [
    "### Predict"
   ]
  },
  {
   "cell_type": "code",
   "execution_count": 30,
   "metadata": {},
   "outputs": [
    {
     "name": "stdout",
     "output_type": "stream",
     "text": [
      "Predicted, Probability\n"
     ]
    },
    {
     "data": {
      "text/plain": [
       "array([[10.        ,  0.99573401],\n",
       "       [10.        ,  0.99569693],\n",
       "       [10.        ,  0.9280084 ],\n",
       "       ...,\n",
       "       [ 9.        ,  0.64982695],\n",
       "       [ 9.        ,  0.9714105 ],\n",
       "       [ 9.        ,  0.69628899]])"
      ]
     },
     "execution_count": 30,
     "metadata": {},
     "output_type": "execute_result"
    }
   ],
   "source": [
    "y_prob, y_pred = np.max(a3, axis=1), np.argmax(a3, axis=1)+1 \n",
    "\n",
    "print('Predicted, Probability')\n",
    "np.vstack([y_pred, y_prob]).T"
   ]
  },
  {
   "cell_type": "code",
   "execution_count": 27,
   "metadata": {},
   "outputs": [
    {
     "name": "stdout",
     "output_type": "stream",
     "text": [
      "Accuracy: 0.9752\n"
     ]
    }
   ],
   "source": [
    "print('Accuracy: {}'.format(np.mean(y_pred == y.flatten())))"
   ]
  }
 ],
 "metadata": {
  "kernelspec": {
   "display_name": "Python 3",
   "language": "python",
   "name": "python3"
  },
  "language_info": {
   "codemirror_mode": {
    "name": "ipython",
    "version": 3
   },
   "file_extension": ".py",
   "mimetype": "text/x-python",
   "name": "python",
   "nbconvert_exporter": "python",
   "pygments_lexer": "ipython3",
   "version": "3.7.0"
  }
 },
 "nbformat": 4,
 "nbformat_minor": 2
}
