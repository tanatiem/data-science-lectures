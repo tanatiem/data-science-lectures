{
 "cells": [
  {
   "cell_type": "markdown",
   "metadata": {},
   "source": [
    "# Regularized regression\n",
    "\n",
    "## Why regularize?\n",
    "- Recall: Linear regression minimizes a loss function\n",
    "- It chooses a coefficient for each feature variable\n",
    "- Large coefficients can lead to overfitting\n",
    "- Pernalizing large coefficients: Regularization\n",
    "\n",
    "\n",
    "It is a common practice to alter the loss function so that it penalizes for large coefficients.\n",
    "\n",
    "## Ridge regression\n",
    "- Loss function = OLS loss function + $\\alpha * \\sum_{i=1}^{n} a_i^2$<br>(Constant alpha times sum of coefficients squared)\n",
    "- When minimize the loss function to fit to our data, models are penalized for coefficients with a large magnitude: large positive and large negative coefficients\n",
    "- **Alpha** is a parameter we need to choose\n",
    "- Picking alpha is similar to picking **k** in k-NN\n",
    "- Hyperparameter tuning\n",
    "- Alpha controls model complexity\n",
    " - Alpha = 0: We get back OLS (can lead to *overfitting*)<br>Large coefficients are not penalized and the overfitting problem is not accounted for\n",
    " - Very high alpha: can lead to *underfitting*\n",
    " \n",
    "```python\n",
    "from sklearn.linear_model import Ridge\n",
    "ridge = Ridge(alpha=0.1, normalize=True)\n",
    "```\n",
    "Note: normalize ensures that all variables are on the same scale"
   ]
  },
  {
   "cell_type": "code",
   "execution_count": 1,
   "metadata": {},
   "outputs": [
    {
     "data": {
      "text/plain": [
       "0.6996938275127313"
      ]
     },
     "execution_count": 1,
     "metadata": {},
     "output_type": "execute_result"
    }
   ],
   "source": [
    "import pandas as pd\n",
    "import numpy as np\n",
    "import matplotlib.pyplot as plt\n",
    "\n",
    "from sklearn.linear_model import Ridge\n",
    "from sklearn.model_selection import train_test_split\n",
    "\n",
    "boston = pd.read_csv('datasets/boston.csv')\n",
    "X = boston.drop('MEDV', axis=1).values\n",
    "y = boston['MEDV'].values\n",
    "\n",
    "X_train, X_test, y_train, y_test = train_test_split(X, y, \n",
    "        test_size=0.3, random_state=42)\n",
    "\n",
    "ridge = Ridge(alpha=0.1, normalize=True)\n",
    "ridge.fit(X_train, y_train)\n",
    "ridge.score(X_test, y_test)"
   ]
  },
  {
   "cell_type": "markdown",
   "metadata": {},
   "source": [
    "## Lasso regression\n",
    "- Loss function = OLS loss function + $\\alpha * \\sum_{i=1}^{n} |{a_i}|$\n",
    "- Similar usage with Ridge (alpha, normalize,... params)\n",
    "- Can be used to select important features of a dataset\n",
    "- Shrinks the coefficients of less important features to exactly 0.<br>The features whose coefficients are not shrunk to zero are 'selected' by the LASSO algorithm."
   ]
  },
  {
   "cell_type": "code",
   "execution_count": 3,
   "metadata": {},
   "outputs": [
    {
     "data": {
      "text/plain": [
       "0.595022953532855"
      ]
     },
     "execution_count": 3,
     "metadata": {},
     "output_type": "execute_result"
    }
   ],
   "source": [
    "from sklearn.linear_model import Lasso\n",
    "\n",
    "X_train, X_test, y_train, y_test = train_test_split(X, y,\n",
    "        test_size=0.3, random_state=42)\n",
    "\n",
    "lasso = Lasso(alpha=0.1, normalize=True)\n",
    "lasso.fit(X_train, y_train)\n",
    "\n",
    "lasso_pred = lasso.predict(X_test)\n",
    "\n",
    "lasso.score(X_test, y_test)"
   ]
  },
  {
   "cell_type": "markdown",
   "metadata": {},
   "source": [
    "## Lasso for feature selection in scikit-learn"
   ]
  },
  {
   "cell_type": "code",
   "execution_count": 9,
   "metadata": {},
   "outputs": [
    {
     "data": {
      "text/plain": [
       "array([-0.        ,  0.        , -0.        ,  0.        , -0.        ,\n",
       "        2.95469455, -0.        ,  0.        , -0.        , -0.        ,\n",
       "       -0.24795837,  0.        , -0.42817439])"
      ]
     },
     "execution_count": 9,
     "metadata": {},
     "output_type": "execute_result"
    }
   ],
   "source": [
    "names = boston.drop('MEDV', axis=1).columns\n",
    "\n",
    "lasso = Lasso(alpha=0.1, normalize=True)\n",
    "\n",
    "lasso_coef = lasso.fit(X, y).coef_\n",
    "lasso_coef"
   ]
  },
  {
   "cell_type": "code",
   "execution_count": 11,
   "metadata": {},
   "outputs": [
    {
     "data": {
      "image/png": "[encoded data removed]",
      "text/plain": [
       "<Figure size 432x288 with 1 Axes>"
      ]
     },
     "metadata": {},
     "output_type": "display_data"
    }
   ],
   "source": [
    "_ = plt.plot(range(len(names)), lasso_coef)\n",
    "_ = plt.xticks(range(len(names)), names, rotation=60)\n",
    "_ = plt.ylabel('Coefficients');"
   ]
  },
  {
   "cell_type": "markdown",
   "metadata": {},
   "source": [
    "Most important predictor for the housing price target variable is number of rooms (RM)"
   ]
  }
 ],
 "metadata": {
  "kernelspec": {
   "display_name": "Python 3",
   "language": "python",
   "name": "python3"
  },
  "language_info": {
   "codemirror_mode": {
    "name": "ipython",
    "version": 3
   },
   "file_extension": ".py",
   "mimetype": "text/x-python",
   "name": "python",
   "nbconvert_exporter": "python",
   "pygments_lexer": "ipython3",
   "version": "3.7.0"
  }
 },
 "nbformat": 4,
 "nbformat_minor": 2
}
