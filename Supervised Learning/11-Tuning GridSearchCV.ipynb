{
 "cells": [
  {
   "cell_type": "markdown",
   "metadata": {},
   "source": [
    "# Hyperparameter\n",
    "- Linear regression: Choosing parameters\n",
    "- Ridge/Lasso regression: Choosing alpha\n",
    "- k-Nearest Neighbors: Choosing n_neighbors\n",
    "- Hyperparameters cannot be learned by fitting the model\n",
    "\n",
    "# Choosing the correct hyperparameter\n",
    "- Try a bunch of different hyperparameter values\n",
    "- Fit all of them separately\n",
    "- See how well each performs\n",
    "- Choose the best performing one\n",
    "- It is essential to use cross-validation\n",
    "\n",
    "# Grid search cross-validation\n",
    "<table>\n",
    "    <tr><td>C \\ Alpha</td><td>0.1</td><td>0.2</td><td>0.3</td><td>0.4</td></tr>\n",
    "    <tr><td>0.5</td><td>0.701</td><td>0.703</td><td>0.697</td><td>0.696</td></tr>\n",
    "    <tr><td>0.4</td><td>0.699</td><td>0.702</td><td>0.698</td><td>0.702</td></tr>\n",
    "    <tr><td>0.3</td><td>0.721</td><td>0.726</td><td>0.713</td><td>0.703</td></tr>\n",
    "    <tr><td>0.2</td><td>0.706</td><td>0.705</td><td>0.704</td><td>0.701</td></tr>\n",
    "    <tr><td>0.1</td><td>0.698</td><td>0.692</td><td>0.688</td><td>0.675</td></tr>\n",
    "</table>\n",
    "\n",
    "### Hyperparameter for Logsitic Regression\n",
    "- **C**: regularization parameter which controls the inverse of the regularization strength\n",
    "- large C can lead to an *overfit* model\n",
    "- small C can lead to an *underfit* model"
   ]
  },
  {
   "cell_type": "code",
   "execution_count": 4,
   "metadata": {},
   "outputs": [],
   "source": [
    "import pandas as pd\n",
    "import numpy as np\n",
    "\n",
    "from sklearn.linear_model import LogisticRegression\n",
    "from sklearn.model_selection import GridSearchCV"
   ]
  },
  {
   "cell_type": "code",
   "execution_count": 2,
   "metadata": {},
   "outputs": [],
   "source": [
    "df = pd.read_csv('datasets/diabetes.csv')\n",
    "\n",
    "X = df.drop('diabetes', axis=1)\n",
    "y = df['diabetes']"
   ]
  },
  {
   "cell_type": "code",
   "execution_count": 18,
   "metadata": {},
   "outputs": [
    {
     "name": "stdout",
     "output_type": "stream",
     "text": [
      "Tuned Logistic Regression Parameters: {'C': 268.2695795279727}\n",
      "Best score is 0.7708333333333334\n"
     ]
    }
   ],
   "source": [
    "# Setup the hyperparameter grid\n",
    "c_space = np.logspace(-5, 8, 15)\n",
    "param_grid = {'C': c_space}\n",
    "\n",
    "logreg = LogisticRegression()\n",
    "\n",
    "logreg_cv = GridSearchCV(logreg, param_grid, cv=5)\n",
    "\n",
    "logreg_cv.fit(X, y)\n",
    "\n",
    "print(\"Tuned Logistic Regression Parameters: {}\".format(logreg_cv.best_params_)) \n",
    "print(\"Best score is {}\".format(logreg_cv.best_score_))"
   ]
  },
  {
   "cell_type": "markdown",
   "metadata": {},
   "source": [
    "## Randomized Search Cross-validation\n",
    "To save computation cost"
   ]
  },
  {
   "cell_type": "code",
   "execution_count": 23,
   "metadata": {},
   "outputs": [
    {
     "name": "stdout",
     "output_type": "stream",
     "text": [
      "Tuned Decision Tree Parameters:\n",
      "{'criterion': 'entropy', 'max_depth': 3, 'max_features': 6, 'min_samples_leaf': 7}\n",
      "Best score is 0.7486979166666666\n"
     ]
    }
   ],
   "source": [
    "from scipy.stats import randint\n",
    "from sklearn.tree import DecisionTreeClassifier\n",
    "from sklearn.model_selection import RandomizedSearchCV\n",
    "\n",
    "# Set up the parameters and distributions to sample from\n",
    "param_dist = { 'max_depth' : [3, None],\n",
    "               'max_features' : randint(1,9),\n",
    "               'min_samples_leaf' : randint(1,9),\n",
    "               'criterion' : ['gini', 'entropy' ]\n",
    "             }\n",
    "\n",
    "tree = DecisionTreeClassifier()\n",
    "tree_cv = RandomizedSearchCV(tree, param_dist, cv=5)\n",
    "\n",
    "tree_cv.fit(X, y)\n",
    "\n",
    "print('Tuned Decision Tree Parameters:\\n{}'.format(tree_cv.best_params_))\n",
    "print('Best score is {}'.format(tree_cv.best_score_))"
   ]
  },
  {
   "cell_type": "code",
   "execution_count": null,
   "metadata": {},
   "outputs": [],
   "source": []
  }
 ],
 "metadata": {
  "kernelspec": {
   "display_name": "Python 3",
   "language": "python",
   "name": "python3"
  },
  "language_info": {
   "codemirror_mode": {
    "name": "ipython",
    "version": 3
   },
   "file_extension": ".py",
   "mimetype": "text/x-python",
   "name": "python",
   "nbconvert_exporter": "python",
   "pygments_lexer": "ipython3",
   "version": "3.7.0"
  }
 },
 "nbformat": 4,
 "nbformat_minor": 2
}
